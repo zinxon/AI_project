{
 "cells": [
  {
   "cell_type": "code",
   "execution_count": 1,
   "metadata": {},
   "outputs": [],
   "source": [
    "# https://www.kdnuggets.com/2018/11/keras-long-short-term-memory-lstm-model-predict-stock-prices.html\n",
    "\n",
    "import numpy as np\n",
    "import matplotlib.pyplot as plt\n",
    "# Plotly\n",
    "import plotly.plotly as py\n",
    "import plotly.tools as tls\n",
    "import pandas as pd\n",
    "import datetime\n",
    "from sklearn.preprocessing import MinMaxScaler\n",
    "from tensorflow.keras.models import Sequential\n",
    "from tensorflow.keras.layers import Dense\n",
    "from tensorflow.keras.layers import LSTM\n",
    "from tensorflow.keras.layers import Dropout\n",
    "import time\n",
    "import tensorflow as tf"
   ]
  },
  {
   "cell_type": "code",
   "execution_count": 2,
   "metadata": {},
   "outputs": [],
   "source": [
    "name = '0700.HK'\n",
    "filename = 'daily_{}'.format(name)\n",
    "df = pd.read_csv('dataset/{}.csv'.format(filename))\n",
    "df = df.dropna()\n",
    "\n",
    "df['Date'] = pd.to_datetime(df.Date,format='%Y-%m-%d').sort_values(ascending=True)\n",
    "date = df['Date']\n",
    "# date = df['Date'].map(datetime.datetime.toordinal)\n",
    "\n",
    "valid_set_size_percentage = 10 \n",
    "test_set_size_percentage = 10 \n",
    "\n",
    "df = df.iloc[:, 4:5].values\n",
    "\n",
    "# date = np.array(date)\n",
    "# (-1,1) unknown row, 1 column\n",
    "date = date.values\n",
    "date = date.reshape(-1,1)\n",
    "\n"
   ]
  },
  {
   "cell_type": "code",
   "execution_count": 3,
   "metadata": {},
   "outputs": [
    {
     "data": {
      "text/plain": [
       "2471"
      ]
     },
     "execution_count": 3,
     "metadata": {},
     "output_type": "execute_result"
    }
   ],
   "source": [
    "sc = MinMaxScaler(feature_range = (0, 1))\n",
    "df_scaled = sc.fit_transform(df)\n",
    "len(df)\n"
   ]
  },
  {
   "cell_type": "code",
   "execution_count": 4,
   "metadata": {},
   "outputs": [
    {
     "name": "stdout",
     "output_type": "stream",
     "text": [
      "[['2018-07-18T00:00:00.000000000']\n",
      " ['2018-07-19T00:00:00.000000000']\n",
      " ['2018-07-20T00:00:00.000000000']\n",
      " ['2018-07-23T00:00:00.000000000']\n",
      " ['2018-07-24T00:00:00.000000000']\n",
      " ['2018-07-25T00:00:00.000000000']\n",
      " ['2018-07-26T00:00:00.000000000']\n",
      " ['2018-07-27T00:00:00.000000000']\n",
      " ['2018-07-30T00:00:00.000000000']\n",
      " ['2018-07-31T00:00:00.000000000']\n",
      " ['2018-08-01T00:00:00.000000000']\n",
      " ['2018-08-02T00:00:00.000000000']\n",
      " ['2018-08-03T00:00:00.000000000']\n",
      " ['2018-08-06T00:00:00.000000000']\n",
      " ['2018-08-07T00:00:00.000000000']\n",
      " ['2018-08-08T00:00:00.000000000']\n",
      " ['2018-08-09T00:00:00.000000000']\n",
      " ['2018-08-10T00:00:00.000000000']\n",
      " ['2018-08-13T00:00:00.000000000']\n",
      " ['2018-08-14T00:00:00.000000000']\n",
      " ['2018-08-15T00:00:00.000000000']\n",
      " ['2018-08-16T00:00:00.000000000']\n",
      " ['2018-08-17T00:00:00.000000000']\n",
      " ['2018-08-20T00:00:00.000000000']\n",
      " ['2018-08-21T00:00:00.000000000']\n",
      " ['2018-08-22T00:00:00.000000000']\n",
      " ['2018-08-23T00:00:00.000000000']\n",
      " ['2018-08-24T00:00:00.000000000']\n",
      " ['2018-08-27T00:00:00.000000000']\n",
      " ['2018-08-28T00:00:00.000000000']\n",
      " ['2018-08-29T00:00:00.000000000']\n",
      " ['2018-08-30T00:00:00.000000000']\n",
      " ['2018-08-31T00:00:00.000000000']\n",
      " ['2018-09-03T00:00:00.000000000']\n",
      " ['2018-09-04T00:00:00.000000000']\n",
      " ['2018-09-05T00:00:00.000000000']\n",
      " ['2018-09-06T00:00:00.000000000']\n",
      " ['2018-09-07T00:00:00.000000000']\n",
      " ['2018-09-10T00:00:00.000000000']\n",
      " ['2018-09-11T00:00:00.000000000']\n",
      " ['2018-09-12T00:00:00.000000000']\n",
      " ['2018-09-13T00:00:00.000000000']\n",
      " ['2018-09-14T00:00:00.000000000']\n",
      " ['2018-09-17T00:00:00.000000000']\n",
      " ['2018-09-18T00:00:00.000000000']\n",
      " ['2018-09-19T00:00:00.000000000']\n",
      " ['2018-09-20T00:00:00.000000000']\n",
      " ['2018-09-21T00:00:00.000000000']\n",
      " ['2018-09-24T00:00:00.000000000']\n",
      " ['2018-09-26T00:00:00.000000000']\n",
      " ['2018-09-27T00:00:00.000000000']\n",
      " ['2018-09-28T00:00:00.000000000']\n",
      " ['2018-10-02T00:00:00.000000000']\n",
      " ['2018-10-03T00:00:00.000000000']\n",
      " ['2018-10-04T00:00:00.000000000']\n",
      " ['2018-10-05T00:00:00.000000000']\n",
      " ['2018-10-08T00:00:00.000000000']\n",
      " ['2018-10-09T00:00:00.000000000']\n",
      " ['2018-10-10T00:00:00.000000000']\n",
      " ['2018-10-11T00:00:00.000000000']\n",
      " ['2018-10-12T00:00:00.000000000']\n",
      " ['2018-10-15T00:00:00.000000000']\n",
      " ['2018-10-16T00:00:00.000000000']\n",
      " ['2018-10-18T00:00:00.000000000']\n",
      " ['2018-10-19T00:00:00.000000000']\n",
      " ['2018-10-22T00:00:00.000000000']\n",
      " ['2018-10-23T00:00:00.000000000']\n",
      " ['2018-10-24T00:00:00.000000000']\n",
      " ['2018-10-25T00:00:00.000000000']\n",
      " ['2018-10-26T00:00:00.000000000']\n",
      " ['2018-10-29T00:00:00.000000000']\n",
      " ['2018-10-30T00:00:00.000000000']\n",
      " ['2018-10-31T00:00:00.000000000']\n",
      " ['2018-11-01T00:00:00.000000000']\n",
      " ['2018-11-02T00:00:00.000000000']\n",
      " ['2018-11-05T00:00:00.000000000']\n",
      " ['2018-11-06T00:00:00.000000000']\n",
      " ['2018-11-07T00:00:00.000000000']\n",
      " ['2018-11-08T00:00:00.000000000']\n",
      " ['2018-11-09T00:00:00.000000000']\n",
      " ['2018-11-12T00:00:00.000000000']\n",
      " ['2018-11-13T00:00:00.000000000']\n",
      " ['2018-11-14T00:00:00.000000000']\n",
      " ['2018-11-15T00:00:00.000000000']\n",
      " ['2018-11-16T00:00:00.000000000']\n",
      " ['2018-11-19T00:00:00.000000000']\n",
      " ['2018-11-20T00:00:00.000000000']\n",
      " ['2018-11-21T00:00:00.000000000']\n",
      " ['2018-11-22T00:00:00.000000000']\n",
      " ['2018-11-23T00:00:00.000000000']\n",
      " ['2018-11-26T00:00:00.000000000']\n",
      " ['2018-11-27T00:00:00.000000000']\n",
      " ['2018-11-28T00:00:00.000000000']\n",
      " ['2018-11-29T00:00:00.000000000']\n",
      " ['2018-11-30T00:00:00.000000000']\n",
      " ['2018-12-03T00:00:00.000000000']\n",
      " ['2018-12-04T00:00:00.000000000']\n",
      " ['2018-12-05T00:00:00.000000000']\n",
      " ['2018-12-06T00:00:00.000000000']\n",
      " ['2018-12-07T00:00:00.000000000']\n",
      " ['2018-12-10T00:00:00.000000000']\n",
      " ['2018-12-11T00:00:00.000000000']\n",
      " ['2018-12-12T00:00:00.000000000']\n",
      " ['2018-12-13T00:00:00.000000000']\n",
      " ['2018-12-14T00:00:00.000000000']\n",
      " ['2018-12-17T00:00:00.000000000']\n",
      " ['2018-12-18T00:00:00.000000000']\n",
      " ['2018-12-19T00:00:00.000000000']\n",
      " ['2018-12-20T00:00:00.000000000']\n",
      " ['2018-12-21T00:00:00.000000000']\n",
      " ['2018-12-24T00:00:00.000000000']\n",
      " ['2018-12-27T00:00:00.000000000']\n",
      " ['2018-12-28T00:00:00.000000000']\n",
      " ['2018-12-31T00:00:00.000000000']\n",
      " ['2019-01-02T00:00:00.000000000']\n",
      " ['2019-01-03T00:00:00.000000000']\n",
      " ['2019-01-04T00:00:00.000000000']\n",
      " ['2019-01-07T00:00:00.000000000']\n",
      " ['2019-01-08T00:00:00.000000000']\n",
      " ['2019-01-09T00:00:00.000000000']\n",
      " ['2019-01-10T00:00:00.000000000']\n",
      " ['2019-01-11T00:00:00.000000000']\n",
      " ['2019-01-14T00:00:00.000000000']\n",
      " ['2019-01-15T00:00:00.000000000']\n",
      " ['2019-01-16T00:00:00.000000000']\n",
      " ['2019-01-17T00:00:00.000000000']\n",
      " ['2019-01-18T00:00:00.000000000']\n",
      " ['2019-01-21T00:00:00.000000000']\n",
      " ['2019-01-22T00:00:00.000000000']\n",
      " ['2019-01-23T00:00:00.000000000']\n",
      " ['2019-01-24T00:00:00.000000000']\n",
      " ['2019-01-25T00:00:00.000000000']\n",
      " ['2019-01-28T00:00:00.000000000']\n",
      " ['2019-01-29T00:00:00.000000000']\n",
      " ['2019-01-30T00:00:00.000000000']\n",
      " ['2019-01-31T00:00:00.000000000']\n",
      " ['2019-02-01T00:00:00.000000000']\n",
      " ['2019-02-04T00:00:00.000000000']\n",
      " ['2019-02-08T00:00:00.000000000']\n",
      " ['2019-02-11T00:00:00.000000000']\n",
      " ['2019-02-12T00:00:00.000000000']\n",
      " ['2019-02-13T00:00:00.000000000']\n",
      " ['2019-02-14T00:00:00.000000000']\n",
      " ['2019-02-15T00:00:00.000000000']\n",
      " ['2019-02-18T00:00:00.000000000']\n",
      " ['2019-02-19T00:00:00.000000000']\n",
      " ['2019-02-20T00:00:00.000000000']\n",
      " ['2019-02-21T00:00:00.000000000']\n",
      " ['2019-02-22T00:00:00.000000000']\n",
      " ['2019-02-25T00:00:00.000000000']\n",
      " ['2019-02-26T00:00:00.000000000']\n",
      " ['2019-02-27T00:00:00.000000000']\n",
      " ['2019-02-28T00:00:00.000000000']\n",
      " ['2019-03-01T00:00:00.000000000']\n",
      " ['2019-03-04T00:00:00.000000000']\n",
      " ['2019-03-05T00:00:00.000000000']\n",
      " ['2019-03-06T00:00:00.000000000']\n",
      " ['2019-03-07T00:00:00.000000000']\n",
      " ['2019-03-08T00:00:00.000000000']\n",
      " ['2019-03-11T00:00:00.000000000']\n",
      " ['2019-03-12T00:00:00.000000000']\n",
      " ['2019-03-13T00:00:00.000000000']\n",
      " ['2019-03-14T00:00:00.000000000']\n",
      " ['2019-03-15T00:00:00.000000000']\n",
      " ['2019-03-18T00:00:00.000000000']\n",
      " ['2019-03-19T00:00:00.000000000']\n",
      " ['2019-03-20T00:00:00.000000000']\n",
      " ['2019-03-21T00:00:00.000000000']\n",
      " ['2019-03-22T00:00:00.000000000']\n",
      " ['2019-03-25T00:00:00.000000000']\n",
      " ['2019-03-26T00:00:00.000000000']\n",
      " ['2019-03-27T00:00:00.000000000']\n",
      " ['2019-03-28T00:00:00.000000000']\n",
      " ['2019-03-29T00:00:00.000000000']\n",
      " ['2019-04-01T00:00:00.000000000']\n",
      " ['2019-04-02T00:00:00.000000000']\n",
      " ['2019-04-03T00:00:00.000000000']\n",
      " ['2019-04-04T00:00:00.000000000']\n",
      " ['2019-04-08T00:00:00.000000000']\n",
      " ['2019-04-09T00:00:00.000000000']\n",
      " ['2019-04-10T00:00:00.000000000']\n",
      " ['2019-04-11T00:00:00.000000000']\n",
      " ['2019-04-12T00:00:00.000000000']\n",
      " ['2019-04-15T00:00:00.000000000']\n",
      " ['2019-04-16T00:00:00.000000000']\n",
      " ['2019-04-17T00:00:00.000000000']\n",
      " ['2019-04-18T00:00:00.000000000']]\n",
      "(1977, 1)\n"
     ]
    }
   ],
   "source": [
    "valid_set_size = int(np.round(valid_set_size_percentage/100*len(df)));  \n",
    "test_set_size = int(np.round(test_set_size_percentage/100*len(df)));\n",
    "train_set_size = len(df) - (valid_set_size + test_set_size);\n",
    "  \n",
    "training_set_scaled = df_scaled[:train_set_size]\n",
    "valid_set_scaled = df_scaled[train_set_size:train_set_size+valid_set_size]\n",
    "test_set_scaled = df_scaled[train_set_size+valid_set_size:]\n",
    "\n",
    "real_stock_price = df[train_set_size+valid_set_size:]\n",
    "real_stock_price = real_stock_price[60:]\n",
    "\n",
    "date_predict = date[train_set_size+valid_set_size+60:]\n",
    "print(date_predict)\n",
    "\n",
    "print(training_set_scaled.shape)"
   ]
  },
  {
   "cell_type": "code",
   "execution_count": 5,
   "metadata": {},
   "outputs": [
    {
     "name": "stdout",
     "output_type": "stream",
     "text": [
      "(1917, 60, 1) (187, 60, 1) (187, 60, 1)\n"
     ]
    }
   ],
   "source": [
    "X_train = []\n",
    "y_train = []\n",
    "X_valid = []\n",
    "y_valid = []\n",
    "X_test = []\n",
    "y_test = []\n",
    "\n",
    "# LSTMs expect our data to be in a specific format, \n",
    "# usually a 3D array. We start by creating data in 60 timesteps \n",
    "# and converting it into an array using NumPy.\n",
    "# Next, we convert the data into a 3D dimension array with X_train samples, \n",
    "# 60 timestamps, and one feature at each step.\n",
    "    \n",
    "for i in range(60, len(training_set_scaled)):\n",
    "    X_train.append(training_set_scaled[i-60:i, 0])\n",
    "    y_train.append(training_set_scaled[i, 0])\n",
    "    \n",
    "for i in range(60, len(valid_set_scaled)):\n",
    "    X_valid.append(valid_set_scaled[i-60:i, 0])\n",
    "    y_valid.append(valid_set_scaled[i, 0])\n",
    "    \n",
    "for i in range(60, len(test_set_scaled)):\n",
    "    X_test.append(test_set_scaled[i-60:i, 0])\n",
    "    y_test.append(test_set_scaled[i, 0])\n",
    "\n",
    "X_train, y_train = np.array(X_train), np.array(y_train)\n",
    "X_valid, y_valid = np.array(X_valid), np.array(y_valid)\n",
    "X_test, y_test = np.array(X_test), np.array(y_test)\n",
    "\n",
    "\n",
    "X_train = np.reshape(X_train, (X_train.shape[0], X_train.shape[1], 1))\n",
    "X_valid = np.reshape(X_valid, (X_valid.shape[0], X_valid.shape[1], 1))\n",
    "X_test = np.reshape(X_test, (X_test.shape[0], X_test.shape[1], 1))\n",
    "\n",
    "print(X_train.shape,X_valid.shape,X_test.shape)\n"
   ]
  },
  {
   "cell_type": "code",
   "execution_count": 6,
   "metadata": {},
   "outputs": [
    {
     "name": "stdout",
     "output_type": "stream",
     "text": [
      "Train on 1917 samples, validate on 187 samples\n",
      "Epoch 1/20\n",
      "  32/1917 [..............................] - ETA: 1:28 - loss: 0.0394 - accuracy: 0.0000e+00"
     ]
    },
    {
     "name": "stderr",
     "output_type": "stream",
     "text": [
      "WARNING: Logging before flag parsing goes to stderr.\n",
      "W0422 17:25:29.274671 4805342656 callbacks.py:236] Method (on_train_batch_end) is slow compared to the batch update (1.829091). Check your callbacks.\n"
     ]
    },
    {
     "name": "stdout",
     "output_type": "stream",
     "text": [
      "1917/1917 [==============================] - 15s 8ms/sample - loss: 0.0051 - accuracy: 0.0000e+00 - val_loss: 0.0040 - val_accuracy: 0.0053\n",
      "Epoch 2/20\n",
      "1917/1917 [==============================] - 9s 5ms/sample - loss: 6.4056e-04 - accuracy: 0.0000e+00 - val_loss: 0.0069 - val_accuracy: 0.0053\n",
      "Epoch 3/20\n",
      "1917/1917 [==============================] - 9s 5ms/sample - loss: 5.6178e-04 - accuracy: 0.0000e+00 - val_loss: 0.0137 - val_accuracy: 0.0053\n",
      "Epoch 4/20\n",
      "1917/1917 [==============================] - 11s 6ms/sample - loss: 5.2269e-04 - accuracy: 0.0000e+00 - val_loss: 0.0103 - val_accuracy: 0.0053\n",
      "Epoch 5/20\n",
      "1917/1917 [==============================] - 13s 7ms/sample - loss: 4.9369e-04 - accuracy: 0.0000e+00 - val_loss: 0.0067 - val_accuracy: 0.0053\n",
      "Epoch 6/20\n",
      "1917/1917 [==============================] - 11s 6ms/sample - loss: 4.3649e-04 - accuracy: 0.0000e+00 - val_loss: 0.0092 - val_accuracy: 0.0053\n",
      "Epoch 7/20\n",
      "1917/1917 [==============================] - 9s 4ms/sample - loss: 4.4621e-04 - accuracy: 0.0000e+00 - val_loss: 0.0084 - val_accuracy: 0.0053\n",
      "Epoch 8/20\n",
      "1917/1917 [==============================] - 8s 4ms/sample - loss: 5.0701e-04 - accuracy: 0.0000e+00 - val_loss: 0.0042 - val_accuracy: 0.0053\n",
      "Epoch 9/20\n",
      "1917/1917 [==============================] - 9s 5ms/sample - loss: 4.5557e-04 - accuracy: 0.0000e+00 - val_loss: 0.0031 - val_accuracy: 0.0053\n",
      "Epoch 10/20\n",
      "1917/1917 [==============================] - 12s 6ms/sample - loss: 3.9544e-04 - accuracy: 0.0000e+00 - val_loss: 0.0061 - val_accuracy: 0.0053\n",
      "Epoch 11/20\n",
      "1917/1917 [==============================] - 12s 7ms/sample - loss: 3.9721e-04 - accuracy: 0.0000e+00 - val_loss: 0.0069 - val_accuracy: 0.0053\n",
      "Epoch 12/20\n",
      "1917/1917 [==============================] - 13s 7ms/sample - loss: 3.8884e-04 - accuracy: 0.0000e+00 - val_loss: 0.0054 - val_accuracy: 0.0053\n",
      "Epoch 13/20\n",
      "1917/1917 [==============================] - 15s 8ms/sample - loss: 3.5173e-04 - accuracy: 0.0000e+00 - val_loss: 0.0048 - val_accuracy: 0.0053\n",
      "Epoch 14/20\n",
      "1917/1917 [==============================] - 14s 7ms/sample - loss: 3.7077e-04 - accuracy: 0.0000e+00 - val_loss: 0.0091 - val_accuracy: 0.0053\n",
      "Epoch 15/20\n",
      "1917/1917 [==============================] - 14s 7ms/sample - loss: 3.8804e-04 - accuracy: 0.0000e+00 - val_loss: 0.0056 - val_accuracy: 0.0053\n",
      "Epoch 16/20\n",
      "1917/1917 [==============================] - 13s 7ms/sample - loss: 3.3942e-04 - accuracy: 0.0000e+00 - val_loss: 0.0070 - val_accuracy: 0.0053\n",
      "Epoch 17/20\n",
      "1917/1917 [==============================] - 12s 6ms/sample - loss: 3.6009e-04 - accuracy: 0.0000e+00 - val_loss: 0.0046 - val_accuracy: 0.0053\n",
      "Epoch 18/20\n",
      "1917/1917 [==============================] - 12s 6ms/sample - loss: 3.6377e-04 - accuracy: 0.0000e+00 - val_loss: 0.0102 - val_accuracy: 0.0053\n",
      "Epoch 19/20\n",
      "1917/1917 [==============================] - 11s 6ms/sample - loss: 3.7401e-04 - accuracy: 0.0000e+00 - val_loss: 0.0025 - val_accuracy: 0.0053\n",
      "Epoch 20/20\n",
      "1917/1917 [==============================] - 11s 6ms/sample - loss: 3.3550e-04 - accuracy: 0.0000e+00 - val_loss: 0.0031 - val_accuracy: 0.0053\n"
     ]
    },
    {
     "data": {
      "text/plain": [
       "<tensorflow.python.keras.callbacks.History at 0x1a38e79ba8>"
      ]
     },
     "execution_count": 6,
     "metadata": {},
     "output_type": "execute_result"
    }
   ],
   "source": [
    "regressor = Sequential()\n",
    "\n",
    "# units means that how many output nodes of dense layer should be returned.\n",
    "# Because the fully connected layer(dense layer) should consist of input and output.\n",
    "# Then , the mean of dimensionality of the output space could be translated to the number of ouput nodes.\n",
    "\n",
    "regressor.add(LSTM(units = 50, return_sequences = True, input_shape = (X_train.shape[1], 1)))\n",
    "regressor.add(Dropout(0.2))\n",
    "\n",
    "regressor.add(LSTM(units = 50, return_sequences = True))\n",
    "regressor.add(Dropout(0.2))\n",
    "\n",
    "regressor.add(LSTM(units = 50, return_sequences = True))\n",
    "regressor.add(Dropout(0.2))\n",
    "\n",
    "regressor.add(LSTM(units = 50))\n",
    "regressor.add(Dropout(0.2))\n",
    "\n",
    "regressor.add(Dense(units = 1))\n",
    "\n",
    "finishTime = time.strftime(\"%Y-%m-%d %H:%M:%S\", time.localtime()) \n",
    "\n",
    "tb_callback = tf.keras.callbacks.TensorBoard(log_dir='logs/{}'.format(finishTime))\n",
    "\n",
    "regressor.compile(optimizer = 'adam', loss = 'mean_squared_error')\n",
    "\n",
    "regressor.fit(X_train, y_train, epochs = 20, batch_size = 32,validation_data=[X_valid,y_valid],callbacks=[tb_callback])"
   ]
  },
  {
   "cell_type": "code",
   "execution_count": 7,
   "metadata": {},
   "outputs": [
    {
     "name": "stdout",
     "output_type": "stream",
     "text": [
      "(187, 1)\n",
      "(187, 1)\n"
     ]
    }
   ],
   "source": [
    "predicted_stock_price = regressor.predict(X_test)\n",
    "predicted_stock_price = sc.inverse_transform(predicted_stock_price)\n",
    "print(predicted_stock_price.shape)\n",
    "print(real_stock_price.shape)"
   ]
  },
  {
   "cell_type": "code",
   "execution_count": 15,
   "metadata": {},
   "outputs": [
    {
     "data": {
      "image/png": "[encoded data removed]",
      "text/plain": [
       "<Figure size 1296x648 with 1 Axes>"
      ]
     },
     "metadata": {
      "needs_background": "light"
     },
     "output_type": "display_data"
    }
   ],
   "source": [
    "fig = plt.figure(figsize = (18,9))\n",
    "plt.plot(date_predict,real_stock_price, color = 'black', label = '{} Stock Price'.format(name))\n",
    "plt.plot(date_predict,predicted_stock_price, color = 'green', label = 'Predicted {} Stock Price'.format(name))\n",
    "plt.title('{} Stock Price Prediction'.format(name))\n",
    "plt.xlabel('Time')\n",
    "plt.ylabel('{} Stock Price'.format(name))\n",
    "plt.legend()\n",
    "plt.show()"
   ]
  },
  {
   "cell_type": "code",
   "execution_count": null,
   "metadata": {},
   "outputs": [],
   "source": [
    "finishTime = time.strftime(\"%Y-%m-%d %H:%M:%S\", time.localtime()) "
   ]
  },
  {
   "cell_type": "code",
   "execution_count": 13,
   "metadata": {},
   "outputs": [],
   "source": [
    "regressor.save('trained_model/model/{}_model_{}.h5'.format(name,finishTime))  # creates a HDF5 file 'my_model.h5'\n",
    "# 將參數儲存至 HDF5 檔案（不含模型）\n",
    "regressor.save_weights('trained_model/model_weight/{}_model_weights_{}.h5'.format(name,finishTime))"
   ]
  },
  {
   "cell_type": "code",
   "execution_count": 17,
   "metadata": {},
   "outputs": [],
   "source": [
    "fig.savefig('img/{}_{}.png'.format(name,finishTime))"
   ]
  },
  {
   "cell_type": "code",
   "execution_count": 21,
   "metadata": {},
   "outputs": [],
   "source": [
    "# Converting to Plotly's Figure object..\n",
    "# plotly_fig = tls.mpl_to_plotly(fig)\n",
    "plotly_fig = py.plot_mpl(fig, filename=\"my first plotly plot\")"
   ]
  },
  {
   "cell_type": "code",
   "execution_count": null,
   "metadata": {},
   "outputs": [],
   "source": []
  }
 ],
 "metadata": {
  "kernelspec": {
   "display_name": "Python 3",
   "language": "python",
   "name": "python3"
  },
  "language_info": {
   "codemirror_mode": {
    "name": "ipython",
    "version": 3
   },
   "file_extension": ".py",
   "mimetype": "text/x-python",
   "name": "python",
   "nbconvert_exporter": "python",
   "pygments_lexer": "ipython3",
   "version": "3.6.7"
  }
 },
 "nbformat": 4,
 "nbformat_minor": 2
}
