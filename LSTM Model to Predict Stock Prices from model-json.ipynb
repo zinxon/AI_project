{
 "cells": [
  {
   "cell_type": "code",
   "execution_count": 1,
   "metadata": {},
   "outputs": [],
   "source": [
    "# https://www.kdnuggets.com/2018/11/keras-long-short-term-memory-lstm-model-predict-stock-prices.html\n",
    "\n",
    "import numpy as np\n",
    "import matplotlib.pyplot as plt\n",
    "# Plotly\n",
    "import plotly.plotly as py\n",
    "import plotly.tools as tls\n",
    "import pandas as pd\n",
    "import datetime\n",
    "from requests_html import HTMLSession\n",
    "from sklearn.preprocessing import MinMaxScaler\n",
    "from tensorflow.keras.models import Sequential,load_model\n",
    "from tensorflow.keras.layers import Dense\n",
    "from tensorflow.keras.layers import LSTM\n",
    "from tensorflow.keras.layers import Dropout\n",
    "import time\n",
    "import tensorflow as tf"
   ]
  },
  {
   "cell_type": "code",
   "execution_count": 2,
   "metadata": {},
   "outputs": [],
   "source": [
    "def getStockInfo(stockCode):\n",
    "    url = 'https://www.alphavantage.co/query?function=TIME_SERIES_DAILY&symbol={0}&outputsize=full&apikey=TIR873DLX4ZC9WTV'.format(\n",
    "        stockCode)\n",
    "    stock_detail = HTMLSession().get(url).json()['Time Series (Daily)']\n",
    "\n",
    "\n",
    "# df is the original unprocessing dataframe\n",
    "    df = pd.DataFrame.from_dict(stock_detail).T  # .T for .transpose()\n",
    "    df.index = pd.to_datetime(df.index, format='%Y-%m-%d')\n",
    "    df.index.names = ['Date']  # rename index\n",
    "    df = df.sort_index(ascending=True)\n",
    "    df.rename(columns={'1. open': 'Open', '2. high': 'High', '3. low': 'Low',\n",
    "                       '4. close': 'Close', '5. volume': 'Volume'}, inplace=True)  # rename column\n",
    "    df[['Open']] = df[['Open']].astype(float)\n",
    "    df[['High']] = df[['High']].astype(float)\n",
    "    df[['Low']] = df[['Low']].astype(float)\n",
    "    df[['Close']] = df[['Close']].astype(float)\n",
    "    df[['Volume']] = df[['Volume']].astype(int)\n",
    "    return df"
   ]
  },
  {
   "cell_type": "code",
   "execution_count": 3,
   "metadata": {},
   "outputs": [],
   "source": [
    "stockCode = '0700.HK'\n",
    "df = getStockInfo(stockCode)\n",
    "valid_set_size_percentage = 10\n",
    "test_set_size_percentage = 10"
   ]
  },
  {
   "cell_type": "code",
   "execution_count": 4,
   "metadata": {},
   "outputs": [],
   "source": [
    "df = df[-2000:]\n",
    "date = df.index\n",
    "date = date.values\n",
    "date = date.reshape(-1, 1)\n",
    "sc = MinMaxScaler(feature_range=(0, 1))\n",
    "df_scaled = sc.fit_transform(df[['Close']])\n",
    "valid_set_size = int(\n",
    "    np.round(valid_set_size_percentage/100*len(df_scaled)))\n",
    "test_set_size = int(np.round(test_set_size_percentage/100*len(df_scaled)))\n",
    "train_set_size = len(df_scaled) - (valid_set_size + test_set_size)\n",
    "\n",
    "training_set_scaled = df_scaled[:train_set_size]\n",
    "valid_set_scaled = df_scaled[train_set_size:train_set_size+valid_set_size]\n",
    "test_set_scaled = df_scaled[train_set_size+valid_set_size:]\n",
    "\n",
    "X_train = []\n",
    "y_train = []\n",
    "X_valid = []\n",
    "y_valid = []\n",
    "X_test = []\n",
    "y_test = []\n",
    "\n",
    "for i in range(60, len(training_set_scaled)):\n",
    "    X_train.append(training_set_scaled[i-60:i, 0])\n",
    "    y_train.append(training_set_scaled[i, 0])\n",
    "\n",
    "for i in range(60, len(valid_set_scaled)):\n",
    "    X_valid.append(valid_set_scaled[i-60:i, 0])\n",
    "    y_valid.append(valid_set_scaled[i, 0])\n",
    "\n",
    "for i in range(60, len(test_set_scaled)):\n",
    "    X_test.append(test_set_scaled[i-60:i, 0])\n",
    "    y_test.append(test_set_scaled[i, 0])\n",
    "\n",
    "X_train, y_train = np.array(X_train), np.array(y_train)\n",
    "X_valid, y_valid = np.array(X_valid), np.array(y_valid)\n",
    "X_test, y_test = np.array(X_test), np.array(y_test)\n",
    "\n",
    "X_train = np.reshape(X_train, (X_train.shape[0], X_train.shape[1], 1))\n",
    "X_valid = np.reshape(X_valid, (X_valid.shape[0], X_valid.shape[1], 1))\n",
    "X_test = np.reshape(X_test, (X_test.shape[0], X_test.shape[1], 1))\n",
    "\n",
    "regressor = load_model('trained_model/model/0700.HK_model_2019-04-22-23-56-27.h5')\n",
    "\n",
    "predicted_stock_price = regressor.predict(X_test)\n",
    "predicted_stock_price = sc.inverse_transform(predicted_stock_price)\n",
    "    # regressor.evaluate(X_test, y_test)\n",
    "\n"
   ]
  },
  {
   "cell_type": "code",
   "execution_count": null,
   "metadata": {},
   "outputs": [],
   "source": [
    "real_stock_price = df[['Close']][train_set_size+valid_set_size:]\n",
    "real_stock_price = real_stock_price[60:]\n",
    "\n",
    "date_predict = date[train_set_size+valid_set_size+60:]\n",
    "\n",
    "fig = plt.figure(figsize=(18, 9))\n",
    "plt.plot(date_predict, real_stock_price, color='black',\n",
    "             label='{} Stock Price'.format(stockCode))\n",
    "plt.plot(date_predict, predicted_stock_price, color='green',\n",
    "             label='Predicted {} Stock Price'.format(stockCode))\n",
    "plt.title('{} Stock Price Prediction'.format(stockCode))\n",
    "plt.xlabel('Time')\n",
    "plt.ylabel('{} Stock Price'.format(stockCode))\n",
    "plt.legend()\n",
    "plt.show()\n",
    "    # finishTime = time.strftime(\"%Y-%m-%d-%H-%M-%S\", time.localtime())\n",
    "plotly_fig = py.plot_mpl(fig, filename=\"my first plotly plot\")"
   ]
  },
  {
   "cell_type": "code",
   "execution_count": 7,
   "metadata": {},
   "outputs": [],
   "source": [
    "def processing(df, stockCode,predicted_stock_price):\n",
    "    prices = df[['Close']].values\n",
    "    \n",
    "    INCREASING_COLOR = '#17BECF'\n",
    "\n",
    "    DECREASING_COLOR = '#7F7F7F'\n",
    "    \n",
    "    data = [dict(\n",
    "        type='candlestick',\n",
    "        open=df.Open,\n",
    "        high=df.High,\n",
    "        low=df.Low,\n",
    "        close=df.Close,\n",
    "        x=df.index,\n",
    "        yaxis='y2',\n",
    "        name=stockCode,\n",
    "        increasing=dict(line=dict(color=INCREASING_COLOR)),\n",
    "        decreasing=dict(line=dict(color=DECREASING_COLOR)),\n",
    "    )]\n",
    "\n",
    "    layout = dict()\n",
    "\n",
    "    fig = dict(data=data, layout=layout)\n",
    "\n",
    "    fig['layout'] = dict()\n",
    "    fig['layout']['plot_bgcolor'] = 'rgb(250, 250, 250)'\n",
    "    fig['layout']['xaxis'] = dict(rangeselector=dict(visible=True))\n",
    "    fig['layout']['yaxis'] = dict(domain=[0, 0.2], showticklabels=False)\n",
    "    fig['layout']['yaxis2'] = dict(domain=[0.2, 0.8])\n",
    "    fig['layout']['legend'] = dict(\n",
    "        orientation='h', y=0.9, x=0.3, yanchor='bottom')\n",
    "    fig['layout']['margin'] = dict(t=40, b=40, r=40, l=40)\n",
    "    fig['layout']['title'] = 'LSTM | Time vs. Price ({0})'.format(\n",
    "        stockCode)\n",
    "    fig['layout']['yaxis2']['title'] = 'Cost (HK$)'\n",
    "\n",
    "    colors = []\n",
    "\n",
    "    for i in range(len(df.Close)):\n",
    "        if i != 0:\n",
    "            if df.Close[i] > df.Close[i-1]:\n",
    "                colors.append(INCREASING_COLOR)\n",
    "            else:\n",
    "                colors.append(DECREASING_COLOR)\n",
    "        else:\n",
    "            colors.append(DECREASING_COLOR)\n",
    "\n",
    "    fig['data'].append(dict(x=df.index, y=df.Volume,\n",
    "                            marker=dict(color=colors),\n",
    "                            type='bar', yaxis='y', name='Volume'))\n",
    "\n",
    "    fig['data'].append(dict(x=df.index, y=predicted_stock_price, type='scatter', yaxis='y2',\n",
    "                            line=dict(width=1),\n",
    "                            marker=dict(color='#ccc'),\n",
    "                            legendgroup='LSTM Prediction', name='LSTM Prediction'))\n",
    "\n",
    "    # py.plot(fig, filename='candlestick', auto_open=True)\n",
    "    url = py.iplot(fig, filename='{}-LSTM'.format(stockCode))\n",
    "    return url.resource"
   ]
  },
  {
   "cell_type": "code",
   "execution_count": 8,
   "metadata": {},
   "outputs": [
    {
     "name": "stdout",
     "output_type": "stream",
     "text": [
      "https://plot.ly/~zinxon/28\n"
     ]
    }
   ],
   "source": [
    "print(processing(df[train_set_size+valid_set_size+60:],stockCode,predicted_stock_price))"
   ]
  },
  {
   "cell_type": "code",
   "execution_count": null,
   "metadata": {},
   "outputs": [],
   "source": [
    "finishTime = time.strftime(\"%Y-%m-%d-%H:%M:%S\", time.localtime()) "
   ]
  },
  {
   "cell_type": "code",
   "execution_count": null,
   "metadata": {},
   "outputs": [],
   "source": [
    "fig.savefig('img/{}_{}.png'.format(stockCode,finishTime))"
   ]
  },
  {
   "cell_type": "code",
   "execution_count": null,
   "metadata": {},
   "outputs": [],
   "source": [
    "# Converting to Plotly's Figure object..\n",
    "# plotly_fig = tls.mpl_to_plotly(fig)\n",
    "plotly_fig = py.plot_mpl(fig, filename=stockCode)\n",
    "print(plotly_fig)"
   ]
  },
  {
   "cell_type": "code",
   "execution_count": null,
   "metadata": {},
   "outputs": [],
   "source": []
  }
 ],
 "metadata": {
  "kernelspec": {
   "display_name": "Python 3",
   "language": "python",
   "name": "python3"
  },
  "language_info": {
   "codemirror_mode": {
    "name": "ipython",
    "version": 3
   },
   "file_extension": ".py",
   "mimetype": "text/x-python",
   "name": "python",
   "nbconvert_exporter": "python",
   "pygments_lexer": "ipython3",
   "version": "3.6.7"
  }
 },
 "nbformat": 4,
 "nbformat_minor": 2
}
